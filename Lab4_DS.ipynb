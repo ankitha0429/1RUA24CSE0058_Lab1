{
 "cells": [
  {
   "cell_type": "code",
   "execution_count": 13,
   "id": "e299e197-24f4-4df0-ab0d-f4abf5e74c5a",
   "metadata": {},
   "outputs": [
    {
     "name": "stdout",
     "output_type": "stream",
     "text": [
      "Index(['Employee', ' salary'], dtype='object')\n",
      "T-test two-tailed statistic: 2.142857142857143\n",
      "T-test two-tailed p-value: 0.06073834694183174\n",
      "T-test one-tailed p-value (mean < 50,000): 0.9696308265290842\n"
     ]
    }
   ],
   "source": [
    "import pandas as pd\n",
    "import numpy as np\n",
    "from scipy import stats\n",
    "\n",
    "df_t = pd.read_csv('t_test_data.csv')\n",
    "employee_salaries = df_t[' salary'].values\n",
    "industry_standard = 50000\n",
    "print(df_t.columns)\n",
    "\n",
    "t_stat, p_value = stats.ttest_1samp(employee_salaries, industry_standard)\n",
    "print(\"T-test two-tailed statistic:\", t_stat)\n",
    "print(\"T-test two-tailed p-value:\", p_value)\n",
    "\n",
    "if t_stat < 0:\n",
    "    p_one_tailed = p_value / 2\n",
    "else:\n",
    "    p_one_tailed = 1 - (p_value / 2)\n",
    "print(\"T-test one-tailed p-value (mean < 50,000):\", p_one_tailed)\n"
   ]
  },
  {
   "cell_type": "code",
   "execution_count": 20,
   "id": "4f91378e-c855-4aaa-b010-6b7960bbaad6",
   "metadata": {},
   "outputs": [
    {
     "name": "stdout",
     "output_type": "stream",
     "text": [
      "Requirement already satisfied: statsmodels in c:\\users\\ankitha hathwar\\appdata\\local\\programs\\python\\python313\\lib\\site-packages (0.14.5)\n",
      "Requirement already satisfied: numpy<3,>=1.22.3 in c:\\users\\ankitha hathwar\\appdata\\local\\programs\\python\\python313\\lib\\site-packages (from statsmodels) (2.1.3)\n",
      "Requirement already satisfied: scipy!=1.9.2,>=1.8 in c:\\users\\ankitha hathwar\\appdata\\local\\programs\\python\\python313\\lib\\site-packages (from statsmodels) (1.15.1)\n",
      "Requirement already satisfied: pandas!=2.1.0,>=1.4 in c:\\users\\ankitha hathwar\\appdata\\local\\programs\\python\\python313\\lib\\site-packages (from statsmodels) (2.2.3)\n",
      "Requirement already satisfied: patsy>=0.5.6 in c:\\users\\ankitha hathwar\\appdata\\local\\programs\\python\\python313\\lib\\site-packages (from statsmodels) (1.0.1)\n",
      "Requirement already satisfied: packaging>=21.3 in c:\\users\\ankitha hathwar\\appdata\\local\\programs\\python\\python313\\lib\\site-packages (from statsmodels) (24.1)\n",
      "Requirement already satisfied: python-dateutil>=2.8.2 in c:\\users\\ankitha hathwar\\appdata\\local\\programs\\python\\python313\\lib\\site-packages (from pandas!=2.1.0,>=1.4->statsmodels) (2.9.0.post0)\n",
      "Requirement already satisfied: pytz>=2020.1 in c:\\users\\ankitha hathwar\\appdata\\local\\programs\\python\\python313\\lib\\site-packages (from pandas!=2.1.0,>=1.4->statsmodels) (2024.2)\n",
      "Requirement already satisfied: tzdata>=2022.7 in c:\\users\\ankitha hathwar\\appdata\\local\\programs\\python\\python313\\lib\\site-packages (from pandas!=2.1.0,>=1.4->statsmodels) (2024.2)\n",
      "Requirement already satisfied: six>=1.5 in c:\\users\\ankitha hathwar\\appdata\\local\\programs\\python\\python313\\lib\\site-packages (from python-dateutil>=2.8.2->pandas!=2.1.0,>=1.4->statsmodels) (1.16.0)\n"
     ]
    }
   ],
   "source": [
    "!pip install statsmodels\n",
    "\n",
    "\n"
   ]
  },
  {
   "cell_type": "code",
   "execution_count": 26,
   "id": "ac8d0c86-df6b-4a6c-afb7-31414466e14d",
   "metadata": {},
   "outputs": [
    {
     "name": "stdout",
     "output_type": "stream",
     "text": [
      "Z-test two-tailed statistic: 1.8987715326845707\n",
      "Z-test two-tailed p-value: 0.05759452164905454\n",
      "Z-test one-tailed p-value (mean > 50,000): 0.02879726082452727\n"
     ]
    }
   ],
   "source": [
    "import numpy as np\n",
    "from scipy.stats import norm\n",
    "\n",
    "sample = large_sample_salaries\n",
    "industry_standard = 50000\n",
    "population_stdev = 2500\n",
    "\n",
    "sample_mean = np.mean(sample)\n",
    "sample_size = len(sample)\n",
    "se = population_stdev / np.sqrt(sample_size)\n",
    "\n",
    "z_stat = (sample_mean - industry_standard) / se\n",
    "\n",
    "# two-tailed p-value\n",
    "p_value = 2 * (1 - norm.cdf(abs(z_stat)))\n",
    "print(\"Z-test two-tailed statistic:\", z_stat)\n",
    "print(\"Z-test two-tailed p-value:\", p_value)\n",
    "\n",
    "# one-tailed (mean > 50,000)\n",
    "p_value_right = 1 - norm.cdf(z_stat)\n",
    "print(\"Z-test one-tailed p-value (mean > 50,000):\", p_value_right)\n"
   ]
  },
  {
   "cell_type": "code",
   "execution_count": null,
   "id": "3d295663-dea0-45e8-befc-70443e64e447",
   "metadata": {},
   "outputs": [],
   "source": []
  }
 ],
 "metadata": {
  "kernelspec": {
   "display_name": "Python 3 (ipykernel)",
   "language": "python",
   "name": "python3"
  },
  "language_info": {
   "codemirror_mode": {
    "name": "ipython",
    "version": 3
   },
   "file_extension": ".py",
   "mimetype": "text/x-python",
   "name": "python",
   "nbconvert_exporter": "python",
   "pygments_lexer": "ipython3",
   "version": "3.13.0"
  }
 },
 "nbformat": 4,
 "nbformat_minor": 5
}
