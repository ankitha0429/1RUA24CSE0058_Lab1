{
 "cells": [
  {
   "cell_type": "code",
   "execution_count": 2,
   "id": "fa631c92-6781-43f5-ba87-f4e7fa913544",
   "metadata": {},
   "outputs": [],
   "source": [
    "import pandas as pd\n",
    "import numpy as np\n",
    "import matplotlib as plt\n",
    "import seaborn as sns\n",
    "import warnings\n",
    "warnings.filterwarnings('ignore')"
   ]
  },
  {
   "cell_type": "code",
   "execution_count": 4,
   "id": "a65741be-1b9b-452d-b7f0-012e78e0848a",
   "metadata": {},
   "outputs": [],
   "source": [
    "\n",
    "df=pd.read_csv(\"Inc_Exp_Data.csv\")"
   ]
  },
  {
   "cell_type": "code",
   "execution_count": 5,
   "id": "d81dd90c-74b0-4edc-b1ab-e2dc11a2f705",
   "metadata": {},
   "outputs": [
    {
     "name": "stdout",
     "output_type": "stream",
     "text": [
      "<class 'pandas.core.frame.DataFrame'>\n",
      "RangeIndex: 50 entries, 0 to 49\n",
      "Data columns (total 7 columns):\n",
      " #   Column                    Non-Null Count  Dtype \n",
      "---  ------                    --------------  ----- \n",
      " 0   Mthly_HH_Income           50 non-null     int64 \n",
      " 1   Mthly_HH_Expense          50 non-null     int64 \n",
      " 2   No_of_Fly_Members         50 non-null     int64 \n",
      " 3   Emi_or_Rent_Amt           50 non-null     int64 \n",
      " 4   Annual_HH_Income          50 non-null     int64 \n",
      " 5   Highest_Qualified_Member  50 non-null     object\n",
      " 6   No_of_Earning_Members     50 non-null     int64 \n",
      "dtypes: int64(6), object(1)\n",
      "memory usage: 2.9+ KB\n"
     ]
    }
   ],
   "source": [
    "df.head(20)\n",
    "df.info()"
   ]
  },
  {
   "cell_type": "code",
   "execution_count": 6,
   "id": "b16e070b-8531-4879-83de-8e6b5aa3d2ec",
   "metadata": {},
   "outputs": [
    {
     "data": {
      "text/html": [
       "<div>\n",
       "<style scoped>\n",
       "    .dataframe tbody tr th:only-of-type {\n",
       "        vertical-align: middle;\n",
       "    }\n",
       "\n",
       "    .dataframe tbody tr th {\n",
       "        vertical-align: top;\n",
       "    }\n",
       "\n",
       "    .dataframe thead th {\n",
       "        text-align: right;\n",
       "    }\n",
       "</style>\n",
       "<table border=\"1\" class=\"dataframe\">\n",
       "  <thead>\n",
       "    <tr style=\"text-align: right;\">\n",
       "      <th></th>\n",
       "      <th>Mthly_HH_Income</th>\n",
       "      <th>Mthly_HH_Expense</th>\n",
       "      <th>No_of_Fly_Members</th>\n",
       "      <th>Emi_or_Rent_Amt</th>\n",
       "      <th>Annual_HH_Income</th>\n",
       "      <th>Highest_Qualified_Member</th>\n",
       "      <th>No_of_Earning_Members</th>\n",
       "    </tr>\n",
       "  </thead>\n",
       "  <tbody>\n",
       "    <tr>\n",
       "      <th>count</th>\n",
       "      <td>50.000000</td>\n",
       "      <td>50.000000</td>\n",
       "      <td>50.000000</td>\n",
       "      <td>50.000000</td>\n",
       "      <td>5.000000e+01</td>\n",
       "      <td>50</td>\n",
       "      <td>50.000000</td>\n",
       "    </tr>\n",
       "    <tr>\n",
       "      <th>unique</th>\n",
       "      <td>NaN</td>\n",
       "      <td>NaN</td>\n",
       "      <td>NaN</td>\n",
       "      <td>NaN</td>\n",
       "      <td>NaN</td>\n",
       "      <td>5</td>\n",
       "      <td>NaN</td>\n",
       "    </tr>\n",
       "    <tr>\n",
       "      <th>top</th>\n",
       "      <td>NaN</td>\n",
       "      <td>NaN</td>\n",
       "      <td>NaN</td>\n",
       "      <td>NaN</td>\n",
       "      <td>NaN</td>\n",
       "      <td>Graduate</td>\n",
       "      <td>NaN</td>\n",
       "    </tr>\n",
       "    <tr>\n",
       "      <th>freq</th>\n",
       "      <td>NaN</td>\n",
       "      <td>NaN</td>\n",
       "      <td>NaN</td>\n",
       "      <td>NaN</td>\n",
       "      <td>NaN</td>\n",
       "      <td>19</td>\n",
       "      <td>NaN</td>\n",
       "    </tr>\n",
       "    <tr>\n",
       "      <th>mean</th>\n",
       "      <td>41558.000000</td>\n",
       "      <td>18818.000000</td>\n",
       "      <td>4.060000</td>\n",
       "      <td>3060.000000</td>\n",
       "      <td>4.900190e+05</td>\n",
       "      <td>NaN</td>\n",
       "      <td>1.460000</td>\n",
       "    </tr>\n",
       "    <tr>\n",
       "      <th>std</th>\n",
       "      <td>26097.908979</td>\n",
       "      <td>12090.216824</td>\n",
       "      <td>1.517382</td>\n",
       "      <td>6241.434948</td>\n",
       "      <td>3.201358e+05</td>\n",
       "      <td>NaN</td>\n",
       "      <td>0.734291</td>\n",
       "    </tr>\n",
       "    <tr>\n",
       "      <th>min</th>\n",
       "      <td>5000.000000</td>\n",
       "      <td>2000.000000</td>\n",
       "      <td>1.000000</td>\n",
       "      <td>0.000000</td>\n",
       "      <td>6.420000e+04</td>\n",
       "      <td>NaN</td>\n",
       "      <td>1.000000</td>\n",
       "    </tr>\n",
       "    <tr>\n",
       "      <th>25%</th>\n",
       "      <td>23550.000000</td>\n",
       "      <td>10000.000000</td>\n",
       "      <td>3.000000</td>\n",
       "      <td>0.000000</td>\n",
       "      <td>2.587500e+05</td>\n",
       "      <td>NaN</td>\n",
       "      <td>1.000000</td>\n",
       "    </tr>\n",
       "    <tr>\n",
       "      <th>50%</th>\n",
       "      <td>35000.000000</td>\n",
       "      <td>15500.000000</td>\n",
       "      <td>4.000000</td>\n",
       "      <td>0.000000</td>\n",
       "      <td>4.474200e+05</td>\n",
       "      <td>NaN</td>\n",
       "      <td>1.000000</td>\n",
       "    </tr>\n",
       "    <tr>\n",
       "      <th>75%</th>\n",
       "      <td>50375.000000</td>\n",
       "      <td>25000.000000</td>\n",
       "      <td>5.000000</td>\n",
       "      <td>3500.000000</td>\n",
       "      <td>5.947200e+05</td>\n",
       "      <td>NaN</td>\n",
       "      <td>2.000000</td>\n",
       "    </tr>\n",
       "    <tr>\n",
       "      <th>max</th>\n",
       "      <td>100000.000000</td>\n",
       "      <td>50000.000000</td>\n",
       "      <td>7.000000</td>\n",
       "      <td>35000.000000</td>\n",
       "      <td>1.404000e+06</td>\n",
       "      <td>NaN</td>\n",
       "      <td>4.000000</td>\n",
       "    </tr>\n",
       "  </tbody>\n",
       "</table>\n",
       "</div>"
      ],
      "text/plain": [
       "        Mthly_HH_Income  Mthly_HH_Expense  No_of_Fly_Members  Emi_or_Rent_Amt  \\\n",
       "count         50.000000         50.000000          50.000000        50.000000   \n",
       "unique              NaN               NaN                NaN              NaN   \n",
       "top                 NaN               NaN                NaN              NaN   \n",
       "freq                NaN               NaN                NaN              NaN   \n",
       "mean       41558.000000      18818.000000           4.060000      3060.000000   \n",
       "std        26097.908979      12090.216824           1.517382      6241.434948   \n",
       "min         5000.000000       2000.000000           1.000000         0.000000   \n",
       "25%        23550.000000      10000.000000           3.000000         0.000000   \n",
       "50%        35000.000000      15500.000000           4.000000         0.000000   \n",
       "75%        50375.000000      25000.000000           5.000000      3500.000000   \n",
       "max       100000.000000      50000.000000           7.000000     35000.000000   \n",
       "\n",
       "        Annual_HH_Income Highest_Qualified_Member  No_of_Earning_Members  \n",
       "count       5.000000e+01                       50              50.000000  \n",
       "unique               NaN                        5                    NaN  \n",
       "top                  NaN                 Graduate                    NaN  \n",
       "freq                 NaN                       19                    NaN  \n",
       "mean        4.900190e+05                      NaN               1.460000  \n",
       "std         3.201358e+05                      NaN               0.734291  \n",
       "min         6.420000e+04                      NaN               1.000000  \n",
       "25%         2.587500e+05                      NaN               1.000000  \n",
       "50%         4.474200e+05                      NaN               1.000000  \n",
       "75%         5.947200e+05                      NaN               2.000000  \n",
       "max         1.404000e+06                      NaN               4.000000  "
      ]
     },
     "execution_count": 6,
     "metadata": {},
     "output_type": "execute_result"
    }
   ],
   "source": [
    "df.describe(include='all')"
   ]
  },
  {
   "cell_type": "code",
   "execution_count": 8,
   "id": "3d4ad06c-6776-41c3-b01e-9d20393d86ce",
   "metadata": {},
   "outputs": [
    {
     "data": {
      "text/plain": [
       "(50, 7)"
      ]
     },
     "execution_count": 8,
     "metadata": {},
     "output_type": "execute_result"
    }
   ],
   "source": [
    "df.shape\n"
   ]
  },
  {
   "cell_type": "code",
   "execution_count": 9,
   "id": "cbaa8ba1-f633-447b-b61f-3394b0fbc7c7",
   "metadata": {},
   "outputs": [
    {
     "data": {
      "text/plain": [
       "Mthly_HH_Income             0\n",
       "Mthly_HH_Expense            0\n",
       "No_of_Fly_Members           0\n",
       "Emi_or_Rent_Amt             0\n",
       "Annual_HH_Income            0\n",
       "Highest_Qualified_Member    0\n",
       "No_of_Earning_Members       0\n",
       "dtype: int64"
      ]
     },
     "execution_count": 9,
     "metadata": {},
     "output_type": "execute_result"
    }
   ],
   "source": [
    "df.isnull().sum()"
   ]
  },
  {
   "cell_type": "code",
   "execution_count": 10,
   "id": "035bda7f-160f-4a6f-87e6-f9fe94cf309e",
   "metadata": {},
   "outputs": [
    {
     "name": "stdout",
     "output_type": "stream",
     "text": [
      "41558.0\n"
     ]
    }
   ],
   "source": [
    "mean=df['Mthly_HH_Income'].mean()\n",
    "print(mean)"
   ]
  },
  {
   "cell_type": "code",
   "execution_count": 11,
   "id": "a646ce38-b0be-4bd1-abca-3a6901f91285",
   "metadata": {},
   "outputs": [
    {
     "name": "stdout",
     "output_type": "stream",
     "text": [
      "35000.0\n"
     ]
    }
   ],
   "source": [
    "median=df['Mthly_HH_Income'].median()\n",
    "print(median)"
   ]
  },
  {
   "cell_type": "code",
   "execution_count": 12,
   "id": "ac1f35ce-b06b-4734-86c1-d403525ba5e7",
   "metadata": {},
   "outputs": [
    {
     "name": "stdout",
     "output_type": "stream",
     "text": [
      "0    45000\n",
      "Name: Mthly_HH_Income, dtype: int64\n"
     ]
    }
   ],
   "source": [
    "mode=df['Mthly_HH_Income'].mode()\n",
    "print(mode)"
   ]
  },
  {
   "cell_type": "code",
   "execution_count": 13,
   "id": "57b4f761-d711-47bf-83ad-ebc5e1d12fd8",
   "metadata": {},
   "outputs": [
    {
     "name": "stdout",
     "output_type": "stream",
     "text": [
      "18818.0\n"
     ]
    }
   ],
   "source": [
    "mean1=df['Mthly_HH_Expense'].mean()\n",
    "print(mean1)"
   ]
  },
  {
   "cell_type": "code",
   "execution_count": 14,
   "id": "32ce4521-ae6c-44ae-bf5e-f616fbef469e",
   "metadata": {},
   "outputs": [
    {
     "name": "stdout",
     "output_type": "stream",
     "text": [
      "15500.0\n"
     ]
    }
   ],
   "source": [
    "median1=df['Mthly_HH_Expense'].median()\n",
    "print(median1)"
   ]
  },
  {
   "cell_type": "markdown",
   "id": "d2d6fcb5-104d-485a-bb44-7b21dfd6269c",
   "metadata": {},
   "source": [
    "As mean > median, the distribution is positively skewed (right-skewed)"
   ]
  },
  {
   "cell_type": "code",
   "execution_count": 15,
   "id": "72de613e-ec95-4403-96e5-5947c2b37461",
   "metadata": {},
   "outputs": [
    {
     "name": "stdout",
     "output_type": "stream",
     "text": [
      "95000\n"
     ]
    }
   ],
   "source": [
    "ran=df['Mthly_HH_Income'].max()-df['Mthly_HH_Income'].min()\n",
    "print(ran)"
   ]
  },
  {
   "cell_type": "code",
   "execution_count": 19,
   "id": "01965cc6-ee4d-4da1-92da-1bb432857f43",
   "metadata": {},
   "outputs": [
    {
     "name": "stdout",
     "output_type": "stream",
     "text": [
      "Mthly_HH_Income                70000\n",
      "Mthly_HH_Expense                9000\n",
      "No_of_Fly_Members                  2\n",
      "Emi_or_Rent_Amt                    0\n",
      "Annual_HH_Income              756000\n",
      "Highest_Qualified_Member    Graduate\n",
      "No_of_Earning_Members              1\n",
      "Name: 42, dtype: object\n"
     ]
    }
   ],
   "source": [
    "a=df['Mthly_HH_Income']/df['Mthly_HH_Expense']\n",
    "max_rat=a.idxmax()\n",
    "print(df.loc[max_rat])"
   ]
  },
  {
   "cell_type": "code",
   "execution_count": 20,
   "id": "7da41361-aeb8-4700-a0aa-d506f3ff98c5",
   "metadata": {},
   "outputs": [
    {
     "name": "stdout",
     "output_type": "stream",
     "text": [
      "4.06\n"
     ]
    }
   ],
   "source": [
    "avg=df['No_of_Fly_Members'].mean()\n",
    "print(avg)"
   ]
  },
  {
   "cell_type": "code",
   "execution_count": 21,
   "id": "9beab2f6-ff4b-4ef4-baf4-6485a3b46b39",
   "metadata": {},
   "outputs": [
    {
     "name": "stdout",
     "output_type": "stream",
     "text": [
      "1.5173822786601394\n"
     ]
    }
   ],
   "source": [
    "std=df['No_of_Fly_Members'].std()\n",
    "print(std)"
   ]
  },
  {
   "cell_type": "markdown",
   "id": "3fa3d049-9045-4741-b683-f2854f01ef0c",
   "metadata": {},
   "source": [
    "The family size is not perfectly consistent"
   ]
  },
  {
   "cell_type": "code",
   "execution_count": 24,
   "id": "bae2e6b9-c70a-412c-bd3b-77b6cb600282",
   "metadata": {},
   "outputs": [
    {
     "name": "stdout",
     "output_type": "stream",
     "text": [
      "Mthly_HH_Income                  22000\n",
      "Mthly_HH_Expense                 25000\n",
      "No_of_Fly_Members                    6\n",
      "Emi_or_Rent_Amt                  12000\n",
      "Annual_HH_Income                279840\n",
      "Highest_Qualified_Member    Illiterate\n",
      "No_of_Earning_Members                1\n",
      "Name: 11, dtype: object\n"
     ]
    }
   ],
   "source": [
    "depend=(df['No_of_Fly_Members']-df['No_of_Earning_Members'])/df['No_of_Fly_Members']\n",
    "max_dep=depend.idxmax()\n",
    "print(df.loc[max_dep])"
   ]
  },
  {
   "cell_type": "code",
   "execution_count": 26,
   "id": "8dce76dd-09e2-45fe-903b-e416f00e31c1",
   "metadata": {},
   "outputs": [
    {
     "name": "stdout",
     "output_type": "stream",
     "text": [
      "12.694386798751195\n"
     ]
    }
   ],
   "source": [
    "avg_inc=(df['Emi_or_Rent_Amt']/df['Mthly_HH_Income']).mean()*100\n",
    "print(avg_inc)"
   ]
  },
  {
   "cell_type": "code",
   "execution_count": 32,
   "id": "614ad79f-fb2d-4dda-9704-373271f43261",
   "metadata": {},
   "outputs": [
    {
     "name": "stdout",
     "output_type": "stream",
     "text": [
      "    Mthly_HH_Income  Mthly_HH_Expense  No_of_Fly_Members  Emi_or_Rent_Amt  \\\n",
      "1              6000              7000                  2             3000   \n",
      "6             15000             16000                  3            35000   \n",
      "7             18000             20000                  5             8000   \n",
      "11            22000             25000                  6            12000   \n",
      "\n",
      "    Annual_HH_Income Highest_Qualified_Member  No_of_Earning_Members  highh  \n",
      "1              79920               Illiterate                      1   True  \n",
      "6             167400            Post-Graduate                      1   True  \n",
      "7             216000                 Graduate                      1   True  \n",
      "11            279840               Illiterate                      1   True  \n"
     ]
    }
   ],
   "source": [
    "df['highh']=df['Emi_or_Rent_Amt']>0.4*df['Mthly_HH_Income']\n",
    "print(df[df['highh']])"
   ]
  },
  {
   "cell_type": "code",
   "execution_count": 33,
   "id": "cbfcf5ea-fb0d-43fa-ae2b-739de7f15e42",
   "metadata": {},
   "outputs": [
    {
     "name": "stdout",
     "output_type": "stream",
     "text": [
      "Lowest disposable income household:\n",
      " Mthly_HH_Income                     15000\n",
      "Mthly_HH_Expense                    16000\n",
      "No_of_Fly_Members                       3\n",
      "Emi_or_Rent_Amt                     35000\n",
      "Annual_HH_Income                   167400\n",
      "Highest_Qualified_Member    Post-Graduate\n",
      "No_of_Earning_Members                   1\n",
      "highh                                True\n",
      "Disposable_Income                  -36000\n",
      "Name: 6, dtype: object\n"
     ]
    }
   ],
   "source": [
    "df['Disposable_Income'] = df['Mthly_HH_Income'] - df['Mthly_HH_Expense'] - df['Emi_or_Rent_Amt']\n",
    "min_disp_idx = df['Disposable_Income'].idxmin()\n",
    "print(\"Lowest disposable income household:\\n\", df.loc[min_disp_idx])\n"
   ]
  },
  {
   "cell_type": "code",
   "execution_count": 34,
   "id": "c0156bb9-f0f8-4592-b90c-453f8885708c",
   "metadata": {},
   "outputs": [
    {
     "name": "stdout",
     "output_type": "stream",
     "text": [
      "Discrepancies in annual income:\n",
      "     Mthly_HH_Income  Mthly_HH_Expense  No_of_Fly_Members  Emi_or_Rent_Amt  \\\n",
      "0              5000              8000                  3             2000   \n",
      "1              6000              7000                  2             3000   \n",
      "2             10000              4500                  2                0   \n",
      "3             10000              2000                  1                0   \n",
      "4             12500             12000                  2             3000   \n",
      "5             14000              8000                  2                0   \n",
      "6             15000             16000                  3            35000   \n",
      "8             19000              9000                  2                0   \n",
      "9             20000              9000                  4                0   \n",
      "10            20000             18000                  4             8000   \n",
      "11            22000             25000                  6            12000   \n",
      "12            23400              5000                  3                0   \n",
      "13            24000             10500                  6                0   \n",
      "14            24000             10000                  4                0   \n",
      "15            25000             12300                  3                0   \n",
      "16            25000             20000                  3             3500   \n",
      "17            25000             10000                  6                0   \n",
      "19            30000             13000                  4                0   \n",
      "20            30500             25000                  5             5000   \n",
      "21            32000             15000                  4                0   \n",
      "22            34000             19000                  6                0   \n",
      "23            34000             25000                  3             4000   \n",
      "24            35000             12000                  3                0   \n",
      "25            35000             25000                  4                0   \n",
      "26            39000              8000                  4                0   \n",
      "27            40000             10000                  4                0   \n",
      "28            42000             15000                  4                0   \n",
      "29            43000             12000                  4                0   \n",
      "30            45000             25000                  6                0   \n",
      "31            45000             40000                  6             3500   \n",
      "32            45000             10000                  2             1000   \n",
      "33            45000             22000                  4             2500   \n",
      "34            46000             25000                  5             3500   \n",
      "35            47000             15000                  7                0   \n",
      "36            50000             20000                  4                0   \n",
      "37            50500             20000                  3                0   \n",
      "38            55000             45000                  6            12000   \n",
      "39            60000             10000                  3                0   \n",
      "40            60000             50000                  6            10000   \n",
      "41            65000             20000                  4             5000   \n",
      "42            70000              9000                  2                0   \n",
      "43            80000             20000                  4                0   \n",
      "44            85000             25000                  5                0   \n",
      "45            90000             48000                  7                0   \n",
      "46            98000             25000                  5                0   \n",
      "47           100000             30000                  6                0   \n",
      "48           100000             50000                  4            20000   \n",
      "49           100000             40000                  6            10000   \n",
      "\n",
      "    Annual_HH_Income Highest_Qualified_Member  No_of_Earning_Members  highh  \\\n",
      "0              64200           Under-Graduate                      1  False   \n",
      "1              79920               Illiterate                      1   True   \n",
      "2             112800           Under-Graduate                      1  False   \n",
      "3              97200               Illiterate                      1  False   \n",
      "4             147000                 Graduate                      1  False   \n",
      "5             196560                 Graduate                      1  False   \n",
      "6             167400            Post-Graduate                      1   True   \n",
      "8             218880           Under-Graduate                      1  False   \n",
      "9             220800           Under-Graduate                      2  False   \n",
      "10            278400           Under-Graduate                      2  False   \n",
      "11            279840               Illiterate                      1   True   \n",
      "12            292032               Illiterate                      1  False   \n",
      "13            316800                 Graduate                      2  False   \n",
      "14            244800                 Graduate                      2  False   \n",
      "15            246000                 Graduate                      1  False   \n",
      "16            261000                 Graduate                      1  False   \n",
      "17            258000           Under-Graduate                      3  False   \n",
      "19            385200                 Graduate                      1  False   \n",
      "20            351360           Under-Graduate                      1  False   \n",
      "21            445440             Professional                      1  False   \n",
      "22            330480             Professional                      1  False   \n",
      "23            469200             Professional                      1  False   \n",
      "24            466200                 Graduate                      1  False   \n",
      "25            449400             Professional                      2  False   \n",
      "26            556920           Under-Graduate                      1  False   \n",
      "27            412800           Under-Graduate                      1  False   \n",
      "28            488880                 Graduate                      1  False   \n",
      "29            619200                 Graduate                      1  False   \n",
      "30            523800                 Graduate                      3  False   \n",
      "31            507600             Professional                      2  False   \n",
      "32            437400            Post-Graduate                      1  False   \n",
      "33            610200            Post-Graduate                      1  False   \n",
      "34            596160                 Graduate                      1  False   \n",
      "35            456840             Professional                      4  False   \n",
      "36            570000             Professional                      1  False   \n",
      "37            581760             Professional                      2  False   \n",
      "38            600600                 Graduate                      2  False   \n",
      "39            590400            Post-Graduate                      1  False   \n",
      "40            590400                 Graduate                      1  False   \n",
      "41            647400               Illiterate                      2  False   \n",
      "42            756000                 Graduate                      1  False   \n",
      "43           1075200                 Graduate                      1  False   \n",
      "44           1142400           Under-Graduate                      2  False   \n",
      "45            885600            Post-Graduate                      3  False   \n",
      "46           1152480             Professional                      2  False   \n",
      "47           1404000                 Graduate                      3  False   \n",
      "48           1032000             Professional                      2  False   \n",
      "49           1320000            Post-Graduate                      1  False   \n",
      "\n",
      "    Disposable_Income  Annual_Calc  \n",
      "0               -5000        60000  \n",
      "1               -4000        72000  \n",
      "2                5500       120000  \n",
      "3                8000       120000  \n",
      "4               -2500       150000  \n",
      "5                6000       168000  \n",
      "6              -36000       180000  \n",
      "8               10000       228000  \n",
      "9               11000       240000  \n",
      "10              -6000       240000  \n",
      "11             -15000       264000  \n",
      "12              18400       280800  \n",
      "13              13500       288000  \n",
      "14              14000       288000  \n",
      "15              12700       300000  \n",
      "16               1500       300000  \n",
      "17              15000       300000  \n",
      "19              17000       360000  \n",
      "20                500       366000  \n",
      "21              17000       384000  \n",
      "22              15000       408000  \n",
      "23               5000       408000  \n",
      "24              23000       420000  \n",
      "25              10000       420000  \n",
      "26              31000       468000  \n",
      "27              30000       480000  \n",
      "28              27000       504000  \n",
      "29              31000       516000  \n",
      "30              20000       540000  \n",
      "31               1500       540000  \n",
      "32              34000       540000  \n",
      "33              20500       540000  \n",
      "34              17500       552000  \n",
      "35              32000       564000  \n",
      "36              30000       600000  \n",
      "37              30500       606000  \n",
      "38              -2000       660000  \n",
      "39              50000       720000  \n",
      "40                  0       720000  \n",
      "41              40000       780000  \n",
      "42              61000       840000  \n",
      "43              60000       960000  \n",
      "44              60000      1020000  \n",
      "45              42000      1080000  \n",
      "46              73000      1176000  \n",
      "47              70000      1200000  \n",
      "48              30000      1200000  \n",
      "49              50000      1200000  \n"
     ]
    }
   ],
   "source": [
    "df['Annual_Calc'] = df['Mthly_HH_Income'] * 12\n",
    "discrepancies = df[df['Annual_HH_Income'] != df['Annual_Calc']]\n",
    "print(\"Discrepancies in annual income:\\n\", discrepancies)"
   ]
  },
  {
   "cell_type": "markdown",
   "id": "48372e2f-1d51-4b34-8b5e-a7bdffa6c2c6",
   "metadata": {},
   "source": [
    "Annual_HH_Income is not consistent with Mthly_HH_Income × 12 for these households.The Annual_HH_Income column does not match the calculated value (Mthly_HH_Income × 12) for all the rows shown."
   ]
  },
  {
   "cell_type": "code",
   "execution_count": 35,
   "id": "237760d1-b021-4ee1-8ed1-e74b8b963992",
   "metadata": {},
   "outputs": [
    {
     "name": "stdout",
     "output_type": "stream",
     "text": [
      "Avg monthly income by qualification:\n",
      " Highest_Qualified_Member\n",
      "Graduate          40921.052632\n",
      "Illiterate        25280.000000\n",
      "Post-Graduate     59166.666667\n",
      "Professional      52550.000000\n",
      "Under-Graduate    29350.000000\n",
      "Name: Mthly_HH_Income, dtype: float64\n"
     ]
    }
   ],
   "source": [
    "grouped_income = df.groupby('Highest_Qualified_Member')['Mthly_HH_Income'].mean()\n",
    "print(\"Avg monthly income by qualification:\\n\", grouped_income)"
   ]
  },
  {
   "cell_type": "code",
   "execution_count": 36,
   "id": "b46d8c9f-6c8e-49ad-a33f-82d087547ab7",
   "metadata": {},
   "outputs": [
    {
     "name": "stdout",
     "output_type": "stream",
     "text": [
      "Median monthly income by qualification:\n",
      " Highest_Qualified_Member\n",
      "Graduate          35000.0\n",
      "Illiterate        22000.0\n",
      "Post-Graduate     52500.0\n",
      "Professional      46000.0\n",
      "Under-Graduate    22500.0\n",
      "Name: Mthly_HH_Income, dtype: float64\n"
     ]
    }
   ],
   "source": [
    "grouped_median = df.groupby('Highest_Qualified_Member')['Mthly_HH_Income'].median()\n",
    "print(\"Median monthly income by qualification:\\n\", grouped_median)\n"
   ]
  },
  {
   "cell_type": "code",
   "execution_count": null,
   "id": "ee0d7927-bb25-4019-a539-5182c8c05b23",
   "metadata": {},
   "outputs": [],
   "source": []
  }
 ],
 "metadata": {
  "kernelspec": {
   "display_name": "Python 3 (ipykernel)",
   "language": "python",
   "name": "python3"
  },
  "language_info": {
   "codemirror_mode": {
    "name": "ipython",
    "version": 3
   },
   "file_extension": ".py",
   "mimetype": "text/x-python",
   "name": "python",
   "nbconvert_exporter": "python",
   "pygments_lexer": "ipython3",
   "version": "3.13.0"
  }
 },
 "nbformat": 4,
 "nbformat_minor": 5
}
