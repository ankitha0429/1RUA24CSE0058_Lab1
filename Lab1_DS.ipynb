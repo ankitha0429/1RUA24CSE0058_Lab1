{
 "cells": [
  {
   "cell_type": "code",
   "execution_count": 8,
   "id": "c425c898-7274-4a3e-bc15-d03c828ccf54",
   "metadata": {},
   "outputs": [
    {
     "name": "stdout",
     "output_type": "stream",
     "text": [
      "Saved 95 jobs\n"
     ]
    }
   ],
   "source": [
    "import requests, pandas as pd\n",
    "\n",
    "urls = [\"https://remoteok.com/api\", \"https://www.remoteok.com/api\"]\n",
    "hdrs = {\"User-Agent\": \"Mozilla/5.0\", \"Accept\": \"application/json\"}\n",
    "\n",
    "for u in urls:\n",
    "    try:\n",
    "        r = requests.get(u, headers=hdrs, timeout=10)\n",
    "        if \"json\" in r.headers.get(\"Content-Type\",\"\").lower():\n",
    "            data = r.json(); break\n",
    "    except: pass\n",
    "else:\n",
    "    raise SystemExit(\"No data fetched\")\n",
    "\n",
    "jobs = data[1:]\n",
    "pd.DataFrame([{\n",
    "    \"company_name\": j.get(\"company\",\"N/A\"),\n",
    "    \"job_role\": j.get(\"position\",\"N/A\"),\n",
    "    \"location\": j.get(\"location\",\"N/A\"),\n",
    "    \"features_tags\": \", \".join(j.get(\"tags\",[]) or [])\n",
    "} for j in jobs if isinstance(j, dict)]\n",
    ").to_csv(\"remoteok_jobs.csv\", index=False)\n",
    "\n",
    "print(f\"Saved {len(jobs)} jobs\")"
   ]
  },
  {
   "cell_type": "code",
   "execution_count": null,
   "id": "aabd7ee8-fc21-4ab0-a1f4-616d4f355c48",
   "metadata": {},
   "outputs": [],
   "source": []
  },
  {
   "cell_type": "code",
   "execution_count": null,
   "id": "9ab5f913-fba2-4baa-9e33-ab32675a9aeb",
   "metadata": {},
   "outputs": [],
   "source": []
  }
 ],
 "metadata": {
  "kernelspec": {
   "display_name": "Python 3 (ipykernel)",
   "language": "python",
   "name": "python3"
  },
  "language_info": {
   "codemirror_mode": {
    "name": "ipython",
    "version": 3
   },
   "file_extension": ".py",
   "mimetype": "text/x-python",
   "name": "python",
   "nbconvert_exporter": "python",
   "pygments_lexer": "ipython3",
   "version": "3.13.0"
  }
 },
 "nbformat": 4,
 "nbformat_minor": 5
}
